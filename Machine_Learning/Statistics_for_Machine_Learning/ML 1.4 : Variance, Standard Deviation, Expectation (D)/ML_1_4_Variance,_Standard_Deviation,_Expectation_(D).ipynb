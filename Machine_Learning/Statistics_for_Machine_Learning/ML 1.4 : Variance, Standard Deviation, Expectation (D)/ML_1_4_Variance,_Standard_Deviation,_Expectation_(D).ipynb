{
  "nbformat": 4,
  "nbformat_minor": 0,
  "metadata": {
    "colab": {
      "name": "ML 1.4 : Variance, Standard Deviation, Expectation (D).ipynb",
      "provenance": [],
      "collapsed_sections": []
    },
    "kernelspec": {
      "name": "python3",
      "display_name": "Python 3"
    },
    "language_info": {
      "name": "python"
    }
  },
  "cells": [
    {
      "cell_type": "markdown",
      "metadata": {
        "id": "PZ1pK6woWJHg"
      },
      "source": [
        "# **INTRODUCTION**\n",
        "\n",
        "***STATISTICS*** : A descriptive statistic is a summary statistic that quantitatively describes or summarizes features of a collection of information.\n",
        "\n",
        "Statitics Consists of Varience, Standard Deviation and Expectation."
      ]
    },
    {
      "cell_type": "markdown",
      "metadata": {
        "id": "H7UiV6aGWcdf"
      },
      "source": [
        "## VARIANCE\n",
        "**Estimating Variance**: This measures how far is the sum of squared distances from each point to the mean i.e the dispersion around the mean.\n",
        "\n",
        "***How it works?***\n",
        "\n",
        "We just need to import the statistics module and then call pvariance() with our data as an argument. That will return the variance of the population.\n",
        "On the other hand, we can use Python's variance() to calculate the variance of a sample and use it to estimate the variance of the entire population. "
      ]
    },
    {
      "cell_type": "code",
      "metadata": {
        "colab": {
          "base_uri": "https://localhost:8080/"
        },
        "id": "H8wBXWpzWlHr",
        "outputId": "c7be8384-2442-4d91-a993-1a95933f365a"
      },
      "source": [
        "import statistics\n",
        "print(statistics.variance([4, 8, 6, 5, 3, 2, 8, 9, 2, 5]))\n",
        "print(statistics.pvariance([4, 8, 6, 5, 3, 2, 8, 9, 2, 5]))"
      ],
      "execution_count": null,
      "outputs": [
        {
          "output_type": "stream",
          "name": "stdout",
          "text": [
            "6.4\n",
            "5.760000000000001\n"
          ]
        }
      ]
    },
    {
      "cell_type": "markdown",
      "metadata": {
        "id": "3Yfv4rirWp-d"
      },
      "source": [
        "# STANDARD DEVIATION\n",
        "**Estimating Standard Deviation** :The concentration of the data around the mean of the data set.\n",
        "\n",
        "***How it works?***\n",
        "\n",
        "We can find using pstdev() and stdev(). The first function takes the data of an entire population and returns its standard deviation. The second function takes data from a sample and returns an estimation of the population standard deviation."
      ]
    },
    {
      "cell_type": "code",
      "metadata": {
        "colab": {
          "base_uri": "https://localhost:8080/"
        },
        "id": "mjmBVjeTWlqy",
        "outputId": "3c19cae3-af97-4f75-ff9b-7ddeb2a0f1e6"
      },
      "source": [
        "import statistics\n",
        "print(statistics.pstdev([4, 8, 6, 5, 3, 2, 8, 9, 2, 5]))\n",
        "print(statistics.stdev([4, 8, 6, 5, 3, 2, 8, 9, 2, 5]))"
      ],
      "execution_count": null,
      "outputs": [
        {
          "output_type": "stream",
          "name": "stdout",
          "text": [
            "2.4000000000000004\n",
            "2.5298221281347035\n"
          ]
        }
      ]
    },
    {
      "cell_type": "markdown",
      "metadata": {
        "id": "MlzLtgIDXLtu"
      },
      "source": [
        "# EXPECTION\n",
        "***PROBABILITY***: Probability Theory is mathematical framework for comouting the probability of complex events. Uner the assumption that we know the probabilities of the basic events.\n",
        "\n",
        "**Expection** :In probability, the average value of some random variable X is called the expected value or the expectation.\n",
        "\n",
        "***How it works?***\n",
        "\n",
        "It is calculated as the probability weighted sum of values that can be drawn.\n",
        "\n",
        "E[X] = sum(x1 * p1, x2 * p2, x3 * p3, ..., xn * pn)\n",
        "\n",
        "In simple cases, such as the flipping of a coin or rolling a dice, the probability of each event is just as likely.\n",
        "\n",
        "E[X] = sum(x1, x2, x3, ..., xn) . 1/n\n",
        "\n",
        " Therefore, the expected value can be calculated as the sum of all values multiplied by the reciprocal of the number of values. Similarly mean wokrs so it is confusing and mean, average, and expected value are used interchangeably.\n",
        "\n",
        "\n"
      ]
    },
    {
      "cell_type": "code",
      "metadata": {
        "colab": {
          "base_uri": "https://localhost:8080/"
        },
        "id": "dvx07Sg_Wx6U",
        "outputId": "3b146e70-586a-4ba0-c8ff-c7ba9c488331"
      },
      "source": [
        "from numpy import array\n",
        "from numpy import mean\n",
        "\n",
        "v = array([1,2,3,4,5,6]) \n",
        "print('The Expectation is' , mean(v))"
      ],
      "execution_count": null,
      "outputs": [
        {
          "output_type": "stream",
          "name": "stdout",
          "text": [
            "The Expectation is 3.5\n"
          ]
        }
      ]
    },
    {
      "cell_type": "code",
      "metadata": {
        "id": "r2veIo7aZBie"
      },
      "source": [
        ""
      ],
      "execution_count": null,
      "outputs": []
    }
  ]
}